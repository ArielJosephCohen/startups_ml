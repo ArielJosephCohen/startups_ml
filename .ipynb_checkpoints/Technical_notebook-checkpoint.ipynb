{
 "cells": [
  {
   "cell_type": "markdown",
   "metadata": {},
   "source": [
    "### kaggle: https://www.kaggle.com/arindam235/startup-investments-crunchbase"
   ]
  },
  {
   "cell_type": "code",
   "execution_count": 53,
   "metadata": {},
   "outputs": [],
   "source": [
    "import helper as hm\n",
    "from helper import *"
   ]
  },
  {
   "cell_type": "code",
   "execution_count": 54,
   "metadata": {},
   "outputs": [],
   "source": [
    "seed = 14"
   ]
  },
  {
   "cell_type": "code",
   "execution_count": 55,
   "metadata": {},
   "outputs": [],
   "source": [
    "# magic\n",
    "%matplotlib inline\n",
    "\n",
    "# warnings\n",
    "import warnings\n",
    "warnings.filterwarnings(action='ignore')\n",
    "\n",
    "# basic libraries\n",
    "import pandas as pd\n",
    "import numpy as np\n",
    "import matplotlib.pyplot as plt\n",
    "import seaborn as sns\n",
    "import math\n",
    "from scipy import stats\n",
    "\n",
    "# other libraries\n",
    "import pydotplus\n",
    "from numpy import loadtxt\n",
    "from xgboost import XGBClassifier\n",
    "from IPython.display import Image  \n",
    "from imblearn.ensemble import BalancedRandomForestClassifier \n",
    "from imblearn.datasets import make_imbalance\n",
    "\n",
    "# sci-kit learn libraries\n",
    "from sklearn.metrics import confusion_matrix\n",
    "from sklearn.metrics import f1_score\n",
    "from sklearn.metrics import recall_score\n",
    "from sklearn.metrics import accuracy_score\n",
    "from sklearn.metrics import precision_score\n",
    "from sklearn.metrics import roc_auc_score\n",
    "from sklearn.metrics import auc\n",
    "from sklearn.metrics import roc_curve\n",
    "from sklearn.metrics import classification_report\n",
    "from sklearn.feature_selection import rfe\n",
    "from sklearn.feature_selection import RFECV\n",
    "from sklearn.model_selection import RandomizedSearchCV\n",
    "from sklearn.model_selection import StratifiedKFold\n",
    "from sklearn.model_selection import train_test_split\n",
    "from sklearn.model_selection import GridSearchCV\n",
    "from sklearn.linear_model import Perceptron\n",
    "from sklearn.linear_model import SGDClassifier\n",
    "from sklearn.linear_model import LogisticRegression\n",
    "from sklearn.tree import DecisionTreeClassifier\n",
    "from sklearn.tree import export_graphviz\n",
    "from sklearn.preprocessing import MinMaxScaler\n",
    "from sklearn.preprocessing import StandardScaler\n",
    "from sklearn.svm import SVC, LinearSVC\n",
    "from sklearn.ensemble import RandomForestClassifier\n",
    "from sklearn.neighbors import KNeighborsClassifier\n",
    "from sklearn.naive_bayes import GaussianNB\n",
    "from sklearn.decomposition import PCA\n",
    "from sklearn.utils import resample\n",
    "from sklearn.externals.six import StringIO  "
   ]
  },
  {
   "cell_type": "code",
   "execution_count": 56,
   "metadata": {},
   "outputs": [],
   "source": [
    "df = pd.read_csv('investments_VC.csv', encoding='ISO-8859-2')"
   ]
  },
  {
   "cell_type": "code",
   "execution_count": 57,
   "metadata": {},
   "outputs": [],
   "source": [
    "df.dropna(inplace=True)"
   ]
  },
  {
   "cell_type": "code",
   "execution_count": 58,
   "metadata": {},
   "outputs": [],
   "source": [
    "df.reset_index(inplace=True)\n",
    "df.drop('index',axis=1,inplace=True)"
   ]
  },
  {
   "cell_type": "code",
   "execution_count": 59,
   "metadata": {},
   "outputs": [],
   "source": [
    "df['round_total'] = 0"
   ]
  },
  {
   "cell_type": "code",
   "execution_count": 60,
   "metadata": {},
   "outputs": [],
   "source": [
    "for i in range(len(df)):\n",
    "    df['round_total'][i]=np.sum([df.round_A[i],df.round_B[i],df.round_C[i],df.round_D[i],df.round_E[i],df.round_F[i],df.round_G[i],df.round_H[i]])"
   ]
  },
  {
   "cell_type": "code",
   "execution_count": 61,
   "metadata": {},
   "outputs": [],
   "source": [
    "# df.drop(['round_A','round_B','round_C','round_D','round_E','round_F','round_G','round_H'],axis=1,inplace=True)"
   ]
  },
  {
   "cell_type": "code",
   "execution_count": 62,
   "metadata": {},
   "outputs": [],
   "source": [
    "df['market']=df[' market ']\n",
    "df.drop(['permalink','homepage_url','name','category_list',' funding_total_usd ',' market ','secondary_market'],axis=1,inplace=True)"
   ]
  },
  {
   "cell_type": "code",
   "execution_count": 63,
   "metadata": {},
   "outputs": [],
   "source": [
    "df['founding_year_month'] = None"
   ]
  },
  {
   "cell_type": "code",
   "execution_count": 64,
   "metadata": {},
   "outputs": [],
   "source": [
    "df.founded_month=pd.to_datetime(df.founded_month)"
   ]
  },
  {
   "cell_type": "code",
   "execution_count": 65,
   "metadata": {},
   "outputs": [],
   "source": [
    "for i in range(len(df)):\n",
    "    df.founded_month[i] = int(str(df.founded_month[i]).split()[0][5:7])"
   ]
  },
  {
   "cell_type": "code",
   "execution_count": 66,
   "metadata": {},
   "outputs": [],
   "source": [
    "for i in range(len(df)):\n",
    "    df.founding_year_month[i] = f'{df.founded_month[i]}/{int(df.founded_year[i])}'"
   ]
  },
  {
   "cell_type": "code",
   "execution_count": 67,
   "metadata": {},
   "outputs": [],
   "source": [
    "df.drop('founded_at',axis=1,inplace=True)"
   ]
  },
  {
   "cell_type": "code",
   "execution_count": 68,
   "metadata": {},
   "outputs": [],
   "source": [
    "status_dict = {'closed':0,'operating':1,'acquired':2}\n",
    "df.status = df.status.map(lambda x: status_dict[x])"
   ]
  },
  {
   "cell_type": "code",
   "execution_count": 69,
   "metadata": {},
   "outputs": [],
   "source": [
    "for i in range(len(df)):\n",
    "    df.first_funding_at[i] = f'{str(df.first_funding_at[i]).split()[0][5:7]}/{str(df.first_funding_at[i]).split()[0][0:4]}'"
   ]
  },
  {
   "cell_type": "code",
   "execution_count": 70,
   "metadata": {},
   "outputs": [],
   "source": [
    "for i in range(len(df)):\n",
    "    df.last_funding_at[i] = f'{str(df.last_funding_at[i]).split()[0][5:7]}/{str(df.last_funding_at[i]).split()[0][0:4]}'"
   ]
  },
  {
   "cell_type": "code",
   "execution_count": 71,
   "metadata": {},
   "outputs": [],
   "source": [
    "for i in range(len(df)):\n",
    "    if df.product_crowdfunding[i] > 0:\n",
    "        df.product_crowdfunding[i] = 1\n",
    "    else:\n",
    "        df.product_crowdfunding[i] = 0"
   ]
  },
  {
   "cell_type": "code",
   "execution_count": 72,
   "metadata": {},
   "outputs": [],
   "source": [
    "for i in range(len(df)):\n",
    "    if df.post_ipo_debt[i] > 0:\n",
    "        df.post_ipo_debt[i] = 1\n",
    "    else:\n",
    "        df.post_ipo_debt[i] = 0"
   ]
  },
  {
   "cell_type": "code",
   "execution_count": 73,
   "metadata": {},
   "outputs": [],
   "source": [
    "for i in range(len(df)):\n",
    "    if df.post_ipo_equity[i] > 0:\n",
    "        df.post_ipo_equity[i] = 1\n",
    "    else:\n",
    "        df.post_ipo_equity[i] = 0"
   ]
  },
  {
   "cell_type": "code",
   "execution_count": 74,
   "metadata": {},
   "outputs": [],
   "source": [
    "for i in range(len(df)):\n",
    "    if df.private_equity[i] > 0:\n",
    "        df.private_equity[i] = 1\n",
    "    else:\n",
    "        df.private_equity[i] = 0"
   ]
  },
  {
   "cell_type": "code",
   "execution_count": 75,
   "metadata": {},
   "outputs": [],
   "source": [
    "for i in range(len(df)):\n",
    "    if df.grant[i] > 0:\n",
    "        df.grant[i] = 1\n",
    "    else:\n",
    "        df.grant[i] = 0"
   ]
  },
  {
   "cell_type": "code",
   "execution_count": 76,
   "metadata": {},
   "outputs": [],
   "source": [
    "for i in range(len(df)):\n",
    "    if df.undisclosed[i] > 0:\n",
    "        df.undisclosed[i] = 1\n",
    "    else:\n",
    "        df.undisclosed[i] = 0"
   ]
  },
  {
   "cell_type": "code",
   "execution_count": 77,
   "metadata": {},
   "outputs": [],
   "source": [
    "for i in range(len(df)):\n",
    "    if df.equity_crowdfunding[i] > 0:\n",
    "        df.equity_crowdfunding[i] = 1\n",
    "    else:\n",
    "        df.equity_crowdfunding[i] = 0"
   ]
  },
  {
   "cell_type": "code",
   "execution_count": 78,
   "metadata": {},
   "outputs": [],
   "source": [
    "for i in range(len(df)):\n",
    "    if df.angel[i] > 0:\n",
    "        df.angel[i] = 1\n",
    "    else:\n",
    "        df.angel[i] = 0"
   ]
  },
  {
   "cell_type": "code",
   "execution_count": 79,
   "metadata": {},
   "outputs": [],
   "source": [
    "for i in range(len(df)):\n",
    "    if df.venture[i] > 0:\n",
    "        df.venture[i] = 1\n",
    "    else:\n",
    "        df.venture[i] = 0"
   ]
  },
  {
   "cell_type": "code",
   "execution_count": 80,
   "metadata": {},
   "outputs": [],
   "source": [
    "for i in range(len(df)):\n",
    "    if df.convertible_note[i] > 0:\n",
    "        df.convertible_note[i] = 1\n",
    "    else:\n",
    "        df.convertible_note[i] = 0"
   ]
  },
  {
   "cell_type": "code",
   "execution_count": 81,
   "metadata": {},
   "outputs": [],
   "source": [
    "for i in range(len(df)):\n",
    "    if df.debt_financing[i] > 0:\n",
    "        df.debt_financing[i] = 1\n",
    "    else:\n",
    "        df.debt_financing[i] = 0"
   ]
  },
  {
   "cell_type": "code",
   "execution_count": 82,
   "metadata": {},
   "outputs": [],
   "source": [
    "for feature in ['round_total','round_A','round_B','round_C','round_D','round_E','round_F','round_G','round_H']:\n",
    "    for i in range(len(df)):\n",
    "        if df[feature][i] > 0:\n",
    "            df[feature][i] = 1\n",
    "        else:\n",
    "            df[feature][i] = 0"
   ]
  },
  {
   "cell_type": "code",
   "execution_count": 83,
   "metadata": {},
   "outputs": [],
   "source": [
    "for i in range(len(df)):\n",
    "    if df.seed[i] > 0:\n",
    "        df.seed[i] = 'seed_money'\n",
    "    else:\n",
    "        df.seed[i] = 'no_seed'"
   ]
  },
  {
   "cell_type": "code",
   "execution_count": 84,
   "metadata": {},
   "outputs": [],
   "source": [
    "cat_list = ['country_code','city','state_code','region','founded_month','founded_quarter','first_funding_at',\n",
    "           'last_funding_at','seed','market','founding_year_month']"
   ]
  },
  {
   "cell_type": "code",
   "execution_count": 85,
   "metadata": {},
   "outputs": [],
   "source": [
    "df_cat=df[cat_list]"
   ]
  },
  {
   "cell_type": "code",
   "execution_count": 86,
   "metadata": {},
   "outputs": [],
   "source": [
    "for col in cat_list:\n",
    "    df_cat = hm.create_encoding(col,df_cat,df,'status')"
   ]
  },
  {
   "cell_type": "code",
   "execution_count": 87,
   "metadata": {},
   "outputs": [],
   "source": [
    "df.drop(cat_list,axis=1,inplace=True)"
   ]
  },
  {
   "cell_type": "code",
   "execution_count": 88,
   "metadata": {},
   "outputs": [],
   "source": [
    "for col in df_cat:\n",
    "    df[col]=df_cat[col]"
   ]
  },
  {
   "cell_type": "code",
   "execution_count": 89,
   "metadata": {},
   "outputs": [
    {
     "name": "stdout",
     "output_type": "stream",
     "text": [
      "(21840, 34)\n"
     ]
    },
    {
     "data": {
      "text/html": [
       "<div>\n",
       "<style scoped>\n",
       "    .dataframe tbody tr th:only-of-type {\n",
       "        vertical-align: middle;\n",
       "    }\n",
       "\n",
       "    .dataframe tbody tr th {\n",
       "        vertical-align: top;\n",
       "    }\n",
       "\n",
       "    .dataframe thead th {\n",
       "        text-align: right;\n",
       "    }\n",
       "</style>\n",
       "<table border=\"1\" class=\"dataframe\">\n",
       "  <thead>\n",
       "    <tr style=\"text-align: right;\">\n",
       "      <th></th>\n",
       "      <th>status</th>\n",
       "      <th>funding_rounds</th>\n",
       "      <th>founded_year</th>\n",
       "      <th>venture</th>\n",
       "      <th>equity_crowdfunding</th>\n",
       "      <th>undisclosed</th>\n",
       "      <th>convertible_note</th>\n",
       "      <th>debt_financing</th>\n",
       "      <th>angel</th>\n",
       "      <th>grant</th>\n",
       "      <th>...</th>\n",
       "      <th>city</th>\n",
       "      <th>state_code</th>\n",
       "      <th>region</th>\n",
       "      <th>founded_month</th>\n",
       "      <th>founded_quarter</th>\n",
       "      <th>first_funding_at</th>\n",
       "      <th>last_funding_at</th>\n",
       "      <th>seed</th>\n",
       "      <th>market</th>\n",
       "      <th>founding_year_month</th>\n",
       "    </tr>\n",
       "  </thead>\n",
       "  <tbody>\n",
       "    <tr>\n",
       "      <td>0</td>\n",
       "      <td>2</td>\n",
       "      <td>1.0</td>\n",
       "      <td>2012.0</td>\n",
       "      <td>0.0</td>\n",
       "      <td>0.0</td>\n",
       "      <td>0.0</td>\n",
       "      <td>0.0</td>\n",
       "      <td>0.0</td>\n",
       "      <td>0.0</td>\n",
       "      <td>0.0</td>\n",
       "      <td>...</td>\n",
       "      <td>1.047694</td>\n",
       "      <td>1.038643</td>\n",
       "      <td>1.039618</td>\n",
       "      <td>1.019058</td>\n",
       "      <td>1.011416</td>\n",
       "      <td>1.052434</td>\n",
       "      <td>1.093878</td>\n",
       "      <td>1.006539</td>\n",
       "      <td>1.057803</td>\n",
       "      <td>1.000000</td>\n",
       "    </tr>\n",
       "    <tr>\n",
       "      <td>1</td>\n",
       "      <td>1</td>\n",
       "      <td>1.0</td>\n",
       "      <td>2010.0</td>\n",
       "      <td>0.0</td>\n",
       "      <td>0.0</td>\n",
       "      <td>0.0</td>\n",
       "      <td>0.0</td>\n",
       "      <td>0.0</td>\n",
       "      <td>0.0</td>\n",
       "      <td>0.0</td>\n",
       "      <td>...</td>\n",
       "      <td>0.894737</td>\n",
       "      <td>1.022071</td>\n",
       "      <td>0.904762</td>\n",
       "      <td>1.058379</td>\n",
       "      <td>0.996294</td>\n",
       "      <td>1.006601</td>\n",
       "      <td>1.006079</td>\n",
       "      <td>1.062364</td>\n",
       "      <td>1.063249</td>\n",
       "      <td>1.001689</td>\n",
       "    </tr>\n",
       "    <tr>\n",
       "      <td>2</td>\n",
       "      <td>1</td>\n",
       "      <td>1.0</td>\n",
       "      <td>1986.0</td>\n",
       "      <td>0.0</td>\n",
       "      <td>0.0</td>\n",
       "      <td>0.0</td>\n",
       "      <td>0.0</td>\n",
       "      <td>0.0</td>\n",
       "      <td>0.0</td>\n",
       "      <td>0.0</td>\n",
       "      <td>...</td>\n",
       "      <td>0.984496</td>\n",
       "      <td>1.077914</td>\n",
       "      <td>1.027205</td>\n",
       "      <td>1.058379</td>\n",
       "      <td>1.085714</td>\n",
       "      <td>1.019512</td>\n",
       "      <td>1.058394</td>\n",
       "      <td>1.062364</td>\n",
       "      <td>1.009960</td>\n",
       "      <td>1.088235</td>\n",
       "    </tr>\n",
       "    <tr>\n",
       "      <td>3</td>\n",
       "      <td>1</td>\n",
       "      <td>1.0</td>\n",
       "      <td>1984.0</td>\n",
       "      <td>0.0</td>\n",
       "      <td>0.0</td>\n",
       "      <td>0.0</td>\n",
       "      <td>1.0</td>\n",
       "      <td>0.0</td>\n",
       "      <td>0.0</td>\n",
       "      <td>0.0</td>\n",
       "      <td>...</td>\n",
       "      <td>1.000000</td>\n",
       "      <td>1.023739</td>\n",
       "      <td>1.020761</td>\n",
       "      <td>1.058379</td>\n",
       "      <td>1.095238</td>\n",
       "      <td>1.065789</td>\n",
       "      <td>1.094118</td>\n",
       "      <td>1.062364</td>\n",
       "      <td>1.009960</td>\n",
       "      <td>1.095238</td>\n",
       "    </tr>\n",
       "    <tr>\n",
       "      <td>4</td>\n",
       "      <td>1</td>\n",
       "      <td>4.0</td>\n",
       "      <td>2001.0</td>\n",
       "      <td>0.0</td>\n",
       "      <td>0.0</td>\n",
       "      <td>0.0</td>\n",
       "      <td>0.0</td>\n",
       "      <td>1.0</td>\n",
       "      <td>0.0</td>\n",
       "      <td>0.0</td>\n",
       "      <td>...</td>\n",
       "      <td>1.000000</td>\n",
       "      <td>1.061047</td>\n",
       "      <td>1.088608</td>\n",
       "      <td>1.058379</td>\n",
       "      <td>1.142180</td>\n",
       "      <td>1.025000</td>\n",
       "      <td>1.023256</td>\n",
       "      <td>1.062364</td>\n",
       "      <td>1.003180</td>\n",
       "      <td>1.139364</td>\n",
       "    </tr>\n",
       "  </tbody>\n",
       "</table>\n",
       "<p>5 rows × 34 columns</p>\n",
       "</div>"
      ],
      "text/plain": [
       "   status  funding_rounds  founded_year  venture  equity_crowdfunding  \\\n",
       "0       2             1.0        2012.0      0.0                  0.0   \n",
       "1       1             1.0        2010.0      0.0                  0.0   \n",
       "2       1             1.0        1986.0      0.0                  0.0   \n",
       "3       1             1.0        1984.0      0.0                  0.0   \n",
       "4       1             4.0        2001.0      0.0                  0.0   \n",
       "\n",
       "   undisclosed  convertible_note  debt_financing  angel  grant  ...      city  \\\n",
       "0          0.0               0.0             0.0    0.0    0.0  ...  1.047694   \n",
       "1          0.0               0.0             0.0    0.0    0.0  ...  0.894737   \n",
       "2          0.0               0.0             0.0    0.0    0.0  ...  0.984496   \n",
       "3          0.0               1.0             0.0    0.0    0.0  ...  1.000000   \n",
       "4          0.0               0.0             1.0    0.0    0.0  ...  1.000000   \n",
       "\n",
       "   state_code    region  founded_month  founded_quarter  first_funding_at  \\\n",
       "0    1.038643  1.039618       1.019058         1.011416          1.052434   \n",
       "1    1.022071  0.904762       1.058379         0.996294          1.006601   \n",
       "2    1.077914  1.027205       1.058379         1.085714          1.019512   \n",
       "3    1.023739  1.020761       1.058379         1.095238          1.065789   \n",
       "4    1.061047  1.088608       1.058379         1.142180          1.025000   \n",
       "\n",
       "   last_funding_at      seed    market  founding_year_month  \n",
       "0         1.093878  1.006539  1.057803             1.000000  \n",
       "1         1.006079  1.062364  1.063249             1.001689  \n",
       "2         1.058394  1.062364  1.009960             1.088235  \n",
       "3         1.094118  1.062364  1.009960             1.095238  \n",
       "4         1.023256  1.062364  1.003180             1.139364  \n",
       "\n",
       "[5 rows x 34 columns]"
      ]
     },
     "execution_count": 89,
     "metadata": {},
     "output_type": "execute_result"
    }
   ],
   "source": [
    "print(df.shape)\n",
    "df.head()"
   ]
  },
  {
   "cell_type": "code",
   "execution_count": 90,
   "metadata": {},
   "outputs": [
    {
     "data": {
      "text/plain": [
       "<matplotlib.axes._subplots.AxesSubplot at 0x143c1e810>"
      ]
     },
     "execution_count": 90,
     "metadata": {},
     "output_type": "execute_result"
    },
    {
     "data": {
      "text/plain": [
       "<Figure size 432x288 with 0 Axes>"
      ]
     },
     "metadata": {},
     "output_type": "display_data"
    },
    {
     "data": {
      "image/png": "[encoded data removed]",
      "text/plain": [
       "<Figure size 1080x576 with 2 Axes>"
      ]
     },
     "metadata": {
      "needs_background": "light"
     },
     "output_type": "display_data"
    }
   ],
   "source": [
    "plt.tight_layout()\n",
    "plt.figure(figsize=(15,8))\n",
    "sns.heatmap(df.corr()>=0.7,cmap=\"YlGnBu\")"
   ]
  },
  {
   "cell_type": "code",
   "execution_count": 91,
   "metadata": {},
   "outputs": [],
   "source": [
    "df.drop(['round_total','founded_quarter'],axis=1,inplace=True)"
   ]
  },
  {
   "cell_type": "code",
   "execution_count": 92,
   "metadata": {},
   "outputs": [
    {
     "data": {
      "text/plain": [
       "1    18448\n",
       "2     2202\n",
       "0     1190\n",
       "Name: status, dtype: int64"
      ]
     },
     "execution_count": 92,
     "metadata": {},
     "output_type": "execute_result"
    }
   ],
   "source": [
    "df.status.value_counts()"
   ]
  },
  {
   "cell_type": "code",
   "execution_count": 93,
   "metadata": {},
   "outputs": [],
   "source": [
    "X = df.drop('status',axis=1)\n",
    "y = df.status"
   ]
  },
  {
   "cell_type": "code",
   "execution_count": 94,
   "metadata": {},
   "outputs": [
    {
     "data": {
      "text/plain": [
       "RFECV(cv=StratifiedKFold(n_splits=8, random_state=None, shuffle=False),\n",
       "      estimator=RandomForestClassifier(bootstrap=True, ccp_alpha=0.0,\n",
       "                                       class_weight=None, criterion='gini',\n",
       "                                       max_depth=None, max_features='auto',\n",
       "                                       max_leaf_nodes=None, max_samples=None,\n",
       "                                       min_impurity_decrease=0.0,\n",
       "                                       min_impurity_split=None,\n",
       "                                       min_samples_leaf=1, min_samples_split=2,\n",
       "                                       min_weight_fraction_leaf=0.0,\n",
       "                                       n_estimators=100, n_jobs=None,\n",
       "                                       oob_score=False, random_state=14,\n",
       "                                       verbose=0, warm_start=False),\n",
       "      min_features_to_select=15, n_jobs=None, scoring='accuracy', step=1,\n",
       "      verbose=0)"
      ]
     },
     "execution_count": 94,
     "metadata": {},
     "output_type": "execute_result"
    }
   ],
   "source": [
    "rfc = RandomForestClassifier(random_state=seed)\n",
    "rfecv = RFECV(estimator=rfc, step=1, cv=StratifiedKFold(8), scoring='accuracy',min_features_to_select=15)\n",
    "rfecv.fit(X, y)"
   ]
  },
  {
   "cell_type": "code",
   "execution_count": 95,
   "metadata": {},
   "outputs": [],
   "source": [
    "support_list = list(rfecv.support_)"
   ]
  },
  {
   "cell_type": "code",
   "execution_count": 96,
   "metadata": {},
   "outputs": [],
   "source": [
    "importance = []\n",
    "for val, sup in list(zip(X.columns,support_list)):\n",
    "    if sup == True:\n",
    "        importance.append(val)"
   ]
  },
  {
   "cell_type": "code",
   "execution_count": 97,
   "metadata": {},
   "outputs": [
    {
     "name": "stdout",
     "output_type": "stream",
     "text": [
      "(21840, 20)\n"
     ]
    },
    {
     "data": {
      "text/html": [
       "<div>\n",
       "<style scoped>\n",
       "    .dataframe tbody tr th:only-of-type {\n",
       "        vertical-align: middle;\n",
       "    }\n",
       "\n",
       "    .dataframe tbody tr th {\n",
       "        vertical-align: top;\n",
       "    }\n",
       "\n",
       "    .dataframe thead th {\n",
       "        text-align: right;\n",
       "    }\n",
       "</style>\n",
       "<table border=\"1\" class=\"dataframe\">\n",
       "  <thead>\n",
       "    <tr style=\"text-align: right;\">\n",
       "      <th></th>\n",
       "      <th>funding_rounds</th>\n",
       "      <th>founded_year</th>\n",
       "      <th>venture</th>\n",
       "      <th>debt_financing</th>\n",
       "      <th>angel</th>\n",
       "      <th>private_equity</th>\n",
       "      <th>round_A</th>\n",
       "      <th>round_B</th>\n",
       "      <th>round_C</th>\n",
       "      <th>round_D</th>\n",
       "      <th>country_code</th>\n",
       "      <th>city</th>\n",
       "      <th>state_code</th>\n",
       "      <th>region</th>\n",
       "      <th>founded_month</th>\n",
       "      <th>first_funding_at</th>\n",
       "      <th>last_funding_at</th>\n",
       "      <th>seed</th>\n",
       "      <th>market</th>\n",
       "      <th>founding_year_month</th>\n",
       "    </tr>\n",
       "  </thead>\n",
       "  <tbody>\n",
       "    <tr>\n",
       "      <td>0</td>\n",
       "      <td>1.0</td>\n",
       "      <td>2012.0</td>\n",
       "      <td>0.0</td>\n",
       "      <td>0.0</td>\n",
       "      <td>0.0</td>\n",
       "      <td>0.0</td>\n",
       "      <td>0.0</td>\n",
       "      <td>0.0</td>\n",
       "      <td>0.0</td>\n",
       "      <td>0.0</td>\n",
       "      <td>1.046829</td>\n",
       "      <td>1.047694</td>\n",
       "      <td>1.038643</td>\n",
       "      <td>1.039618</td>\n",
       "      <td>1.019058</td>\n",
       "      <td>1.052434</td>\n",
       "      <td>1.093878</td>\n",
       "      <td>1.006539</td>\n",
       "      <td>1.057803</td>\n",
       "      <td>1.000000</td>\n",
       "    </tr>\n",
       "    <tr>\n",
       "      <td>1</td>\n",
       "      <td>1.0</td>\n",
       "      <td>2010.0</td>\n",
       "      <td>0.0</td>\n",
       "      <td>0.0</td>\n",
       "      <td>0.0</td>\n",
       "      <td>0.0</td>\n",
       "      <td>0.0</td>\n",
       "      <td>0.0</td>\n",
       "      <td>0.0</td>\n",
       "      <td>0.0</td>\n",
       "      <td>1.046829</td>\n",
       "      <td>0.894737</td>\n",
       "      <td>1.022071</td>\n",
       "      <td>0.904762</td>\n",
       "      <td>1.058379</td>\n",
       "      <td>1.006601</td>\n",
       "      <td>1.006079</td>\n",
       "      <td>1.062364</td>\n",
       "      <td>1.063249</td>\n",
       "      <td>1.001689</td>\n",
       "    </tr>\n",
       "    <tr>\n",
       "      <td>2</td>\n",
       "      <td>1.0</td>\n",
       "      <td>1986.0</td>\n",
       "      <td>0.0</td>\n",
       "      <td>0.0</td>\n",
       "      <td>0.0</td>\n",
       "      <td>0.0</td>\n",
       "      <td>0.0</td>\n",
       "      <td>0.0</td>\n",
       "      <td>0.0</td>\n",
       "      <td>0.0</td>\n",
       "      <td>1.046829</td>\n",
       "      <td>0.984496</td>\n",
       "      <td>1.077914</td>\n",
       "      <td>1.027205</td>\n",
       "      <td>1.058379</td>\n",
       "      <td>1.019512</td>\n",
       "      <td>1.058394</td>\n",
       "      <td>1.062364</td>\n",
       "      <td>1.009960</td>\n",
       "      <td>1.088235</td>\n",
       "    </tr>\n",
       "    <tr>\n",
       "      <td>3</td>\n",
       "      <td>1.0</td>\n",
       "      <td>1984.0</td>\n",
       "      <td>0.0</td>\n",
       "      <td>0.0</td>\n",
       "      <td>0.0</td>\n",
       "      <td>0.0</td>\n",
       "      <td>0.0</td>\n",
       "      <td>0.0</td>\n",
       "      <td>0.0</td>\n",
       "      <td>0.0</td>\n",
       "      <td>1.046829</td>\n",
       "      <td>1.000000</td>\n",
       "      <td>1.023739</td>\n",
       "      <td>1.020761</td>\n",
       "      <td>1.058379</td>\n",
       "      <td>1.065789</td>\n",
       "      <td>1.094118</td>\n",
       "      <td>1.062364</td>\n",
       "      <td>1.009960</td>\n",
       "      <td>1.095238</td>\n",
       "    </tr>\n",
       "    <tr>\n",
       "      <td>4</td>\n",
       "      <td>4.0</td>\n",
       "      <td>2001.0</td>\n",
       "      <td>0.0</td>\n",
       "      <td>1.0</td>\n",
       "      <td>0.0</td>\n",
       "      <td>0.0</td>\n",
       "      <td>0.0</td>\n",
       "      <td>0.0</td>\n",
       "      <td>0.0</td>\n",
       "      <td>0.0</td>\n",
       "      <td>1.046829</td>\n",
       "      <td>1.000000</td>\n",
       "      <td>1.061047</td>\n",
       "      <td>1.088608</td>\n",
       "      <td>1.058379</td>\n",
       "      <td>1.025000</td>\n",
       "      <td>1.023256</td>\n",
       "      <td>1.062364</td>\n",
       "      <td>1.003180</td>\n",
       "      <td>1.139364</td>\n",
       "    </tr>\n",
       "  </tbody>\n",
       "</table>\n",
       "</div>"
      ],
      "text/plain": [
       "   funding_rounds  founded_year  venture  debt_financing  angel  \\\n",
       "0             1.0        2012.0      0.0             0.0    0.0   \n",
       "1             1.0        2010.0      0.0             0.0    0.0   \n",
       "2             1.0        1986.0      0.0             0.0    0.0   \n",
       "3             1.0        1984.0      0.0             0.0    0.0   \n",
       "4             4.0        2001.0      0.0             1.0    0.0   \n",
       "\n",
       "   private_equity  round_A  round_B  round_C  round_D  country_code      city  \\\n",
       "0             0.0      0.0      0.0      0.0      0.0      1.046829  1.047694   \n",
       "1             0.0      0.0      0.0      0.0      0.0      1.046829  0.894737   \n",
       "2             0.0      0.0      0.0      0.0      0.0      1.046829  0.984496   \n",
       "3             0.0      0.0      0.0      0.0      0.0      1.046829  1.000000   \n",
       "4             0.0      0.0      0.0      0.0      0.0      1.046829  1.000000   \n",
       "\n",
       "   state_code    region  founded_month  first_funding_at  last_funding_at  \\\n",
       "0    1.038643  1.039618       1.019058          1.052434         1.093878   \n",
       "1    1.022071  0.904762       1.058379          1.006601         1.006079   \n",
       "2    1.077914  1.027205       1.058379          1.019512         1.058394   \n",
       "3    1.023739  1.020761       1.058379          1.065789         1.094118   \n",
       "4    1.061047  1.088608       1.058379          1.025000         1.023256   \n",
       "\n",
       "       seed    market  founding_year_month  \n",
       "0  1.006539  1.057803             1.000000  \n",
       "1  1.062364  1.063249             1.001689  \n",
       "2  1.062364  1.009960             1.088235  \n",
       "3  1.062364  1.009960             1.095238  \n",
       "4  1.062364  1.003180             1.139364  "
      ]
     },
     "execution_count": 97,
     "metadata": {},
     "output_type": "execute_result"
    }
   ],
   "source": [
    "print(X[importance].shape)\n",
    "X[importance].head()"
   ]
  },
  {
   "cell_type": "code",
   "execution_count": 98,
   "metadata": {},
   "outputs": [],
   "source": [
    "X = X[importance]"
   ]
  },
  {
   "cell_type": "code",
   "execution_count": 99,
   "metadata": {},
   "outputs": [],
   "source": [
    "scaler = MinMaxScaler()\n",
    "for col in X.columns:\n",
    "    X[col] = scaler.fit_transform(X[[col]])"
   ]
  },
  {
   "cell_type": "code",
   "execution_count": 100,
   "metadata": {},
   "outputs": [],
   "source": [
    "X, y = make_imbalance(X,y, sampling_strategy = {0:1190,1:1190,2:1190})"
   ]
  },
  {
   "cell_type": "code",
   "execution_count": 101,
   "metadata": {},
   "outputs": [],
   "source": [
    "X_train, X_test, y_train, y_test = train_test_split(X,y,random_state=seed,test_size=0.25)"
   ]
  },
  {
   "cell_type": "markdown",
   "metadata": {},
   "source": [
    "## Training scores"
   ]
  },
  {
   "cell_type": "code",
   "execution_count": 114,
   "metadata": {},
   "outputs": [
    {
     "name": "stdout",
     "output_type": "stream",
     "text": [
      "84.98\n",
      "\n"
     ]
    },
    {
     "data": {
      "text/plain": [
       "<matplotlib.axes._subplots.AxesSubplot at 0x14bf873d0>"
      ]
     },
     "execution_count": 114,
     "metadata": {},
     "output_type": "execute_result"
    },
    {
     "data": {
      "text/plain": [
       "<Figure size 432x288 with 0 Axes>"
      ]
     },
     "metadata": {},
     "output_type": "display_data"
    },
    {
     "data": {
      "image/png": "[encoded data removed]",
      "text/plain": [
       "<Figure size 504x288 with 2 Axes>"
      ]
     },
     "metadata": {
      "needs_background": "light"
     },
     "output_type": "display_data"
    }
   ],
   "source": [
    "XGB = XGBClassifier(colsample_bytree=0.3, gamma=0.4, max_depth=9, min_child_weight=3, n_estimators=28)\n",
    "XGB.fit(X_train, y_train)\n",
    "Y_pred = XGB.predict(X_train)\n",
    "acc_log = round(XGB.score(X_train, y_train) * 100, 2)\n",
    "print(acc_log)\n",
    "print('')\n",
    "plt.tight_layout()\n",
    "plt.figure(figsize=(7,4))\n",
    "(sns.heatmap(confusion_matrix(y_train, Y_pred),cmap=\"YlGnBu\"))"
   ]
  },
  {
   "cell_type": "markdown",
   "metadata": {},
   "source": [
    "## Testing scores"
   ]
  },
  {
   "cell_type": "code",
   "execution_count": 113,
   "metadata": {},
   "outputs": [
    {
     "name": "stdout",
     "output_type": "stream",
     "text": [
      "67.19\n",
      "\n"
     ]
    },
    {
     "data": {
      "text/plain": [
       "<matplotlib.axes._subplots.AxesSubplot at 0x14bc18350>"
      ]
     },
     "execution_count": 113,
     "metadata": {},
     "output_type": "execute_result"
    },
    {
     "data": {
      "text/plain": [
       "<Figure size 432x288 with 0 Axes>"
      ]
     },
     "metadata": {},
     "output_type": "display_data"
    },
    {
     "data": {
      "image/png": "[encoded data removed]",
      "text/plain": [
       "<Figure size 504x288 with 2 Axes>"
      ]
     },
     "metadata": {
      "needs_background": "light"
     },
     "output_type": "display_data"
    }
   ],
   "source": [
    "XGB = XGBClassifier(colsample_bytree=0.3, gamma=0.4, max_depth=9, min_child_weight=3, n_estimators=28)\n",
    "XGB.fit(X_train, y_train)\n",
    "Y_pred = XGB.predict(X_test)\n",
    "acc_log = round(XGB.score(X_test, y_test) * 100, 2)\n",
    "print(acc_log)\n",
    "print('')\n",
    "plt.tight_layout()\n",
    "plt.figure(figsize=(7,4))\n",
    "(sns.heatmap(confusion_matrix(y_test, Y_pred),cmap=\"YlGnBu\"))"
   ]
  },
  {
   "cell_type": "code",
   "execution_count": 120,
   "metadata": {},
   "outputs": [],
   "source": [
    "rf = RandomForestClassifier()\n",
    "rf.fit(X_train,y_train)\n",
    "pred = rf.predict(X_test)\n",
    "score = rf.score(X_test,y_test)"
   ]
  },
  {
   "cell_type": "code",
   "execution_count": 124,
   "metadata": {},
   "outputs": [],
   "source": [
    "a = pd.DataFrame(rf.feature_importances_).T\n",
    "a.columns = X.columns"
   ]
  },
  {
   "cell_type": "code",
   "execution_count": 128,
   "metadata": {},
   "outputs": [
    {
     "data": {
      "text/html": [
       "<div>\n",
       "<style scoped>\n",
       "    .dataframe tbody tr th:only-of-type {\n",
       "        vertical-align: middle;\n",
       "    }\n",
       "\n",
       "    .dataframe tbody tr th {\n",
       "        vertical-align: top;\n",
       "    }\n",
       "\n",
       "    .dataframe thead th {\n",
       "        text-align: right;\n",
       "    }\n",
       "</style>\n",
       "<table border=\"1\" class=\"dataframe\">\n",
       "  <thead>\n",
       "    <tr style=\"text-align: right;\">\n",
       "      <th></th>\n",
       "      <th>0</th>\n",
       "    </tr>\n",
       "  </thead>\n",
       "  <tbody>\n",
       "    <tr>\n",
       "      <td>city</td>\n",
       "      <td>0.136771</td>\n",
       "    </tr>\n",
       "    <tr>\n",
       "      <td>last_funding_at</td>\n",
       "      <td>0.132139</td>\n",
       "    </tr>\n",
       "    <tr>\n",
       "      <td>first_funding_at</td>\n",
       "      <td>0.125323</td>\n",
       "    </tr>\n",
       "    <tr>\n",
       "      <td>market</td>\n",
       "      <td>0.114302</td>\n",
       "    </tr>\n",
       "    <tr>\n",
       "      <td>founding_year_month</td>\n",
       "      <td>0.097078</td>\n",
       "    </tr>\n",
       "    <tr>\n",
       "      <td>founded_year</td>\n",
       "      <td>0.091089</td>\n",
       "    </tr>\n",
       "    <tr>\n",
       "      <td>region</td>\n",
       "      <td>0.062228</td>\n",
       "    </tr>\n",
       "    <tr>\n",
       "      <td>state_code</td>\n",
       "      <td>0.050772</td>\n",
       "    </tr>\n",
       "    <tr>\n",
       "      <td>funding_rounds</td>\n",
       "      <td>0.046455</td>\n",
       "    </tr>\n",
       "    <tr>\n",
       "      <td>founded_month</td>\n",
       "      <td>0.039249</td>\n",
       "    </tr>\n",
       "    <tr>\n",
       "      <td>venture</td>\n",
       "      <td>0.017500</td>\n",
       "    </tr>\n",
       "    <tr>\n",
       "      <td>round_A</td>\n",
       "      <td>0.016811</td>\n",
       "    </tr>\n",
       "    <tr>\n",
       "      <td>round_B</td>\n",
       "      <td>0.014482</td>\n",
       "    </tr>\n",
       "    <tr>\n",
       "      <td>seed</td>\n",
       "      <td>0.013644</td>\n",
       "    </tr>\n",
       "    <tr>\n",
       "      <td>debt_financing</td>\n",
       "      <td>0.012111</td>\n",
       "    </tr>\n",
       "    <tr>\n",
       "      <td>angel</td>\n",
       "      <td>0.008957</td>\n",
       "    </tr>\n",
       "    <tr>\n",
       "      <td>round_C</td>\n",
       "      <td>0.007698</td>\n",
       "    </tr>\n",
       "    <tr>\n",
       "      <td>country_code</td>\n",
       "      <td>0.005051</td>\n",
       "    </tr>\n",
       "    <tr>\n",
       "      <td>private_equity</td>\n",
       "      <td>0.004223</td>\n",
       "    </tr>\n",
       "    <tr>\n",
       "      <td>round_D</td>\n",
       "      <td>0.004116</td>\n",
       "    </tr>\n",
       "  </tbody>\n",
       "</table>\n",
       "</div>"
      ],
      "text/plain": [
       "                            0\n",
       "city                 0.136771\n",
       "last_funding_at      0.132139\n",
       "first_funding_at     0.125323\n",
       "market               0.114302\n",
       "founding_year_month  0.097078\n",
       "founded_year         0.091089\n",
       "region               0.062228\n",
       "state_code           0.050772\n",
       "funding_rounds       0.046455\n",
       "founded_month        0.039249\n",
       "venture              0.017500\n",
       "round_A              0.016811\n",
       "round_B              0.014482\n",
       "seed                 0.013644\n",
       "debt_financing       0.012111\n",
       "angel                0.008957\n",
       "round_C              0.007698\n",
       "country_code         0.005051\n",
       "private_equity       0.004223\n",
       "round_D              0.004116"
      ]
     },
     "execution_count": 128,
     "metadata": {},
     "output_type": "execute_result"
    }
   ],
   "source": [
    "importance_of_features = a.T.sort_values(by=0,ascending=False)\n",
    "importance_of_features"
   ]
  }
 ],
 "metadata": {
  "kernelspec": {
   "display_name": "Python 3",
   "language": "python",
   "name": "python3"
  },
  "language_info": {
   "codemirror_mode": {
    "name": "ipython",
    "version": 3
   },
   "file_extension": ".py",
   "mimetype": "text/x-python",
   "name": "python",
   "nbconvert_exporter": "python",
   "pygments_lexer": "ipython3",
   "version": "3.7.4"
  }
 },
 "nbformat": 4,
 "nbformat_minor": 4
}
